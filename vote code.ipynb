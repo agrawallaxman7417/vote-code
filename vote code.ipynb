{
 "cells": [
  {
   "cell_type": "code",
   "execution_count": null,
   "id": "c46fa6e5-7ac3-491c-8378-171e8842afc4",
   "metadata": {},
   "outputs": [],
   "source": [
    "while True:\n",
    "    loop=input(\"type c for continue and e for exit\")\n",
    "    if (loop.lower()==\"c\"):\n",
    "        n1=input(\"enter the firt party\")\n",
    "        n2=input(\"enter the second party\")\n",
    "\n",
    "        n1_votes=0\n",
    "        n2_votes=0\n",
    "\n",
    "        votes_id=[1,2,3,4,5,6,7,8,9,10]\n",
    "        num_of_voter=len(votes_id)\n",
    "\n",
    "\n",
    "\n",
    "        while True:\n",
    "           if votes_id==[]:\n",
    "                print(\"voting session over\")\n",
    "                if n1_votes>n2_votes:\n",
    "                    print(\"n1 has winner\")\n",
    "                    percent=(n1_votes/num_of_voter)*100\n",
    "                    print(\"n1 has won with =\",percent,\"% vote\")\n",
    "                    break\n",
    "                elif n2_votes>n1_votes:\n",
    "                    print(\"n2 has winner\")\n",
    "                    percent=(n2_votes/num_of_voter)*100\n",
    "                    print(\"n2 has won with =\",percent,\"% vote\")\n",
    "                    break\n",
    "           else:\n",
    "                    \n",
    "                voter=int(input(\"enter your voter id\"))\n",
    "                if voter in votes_id:\n",
    "                    print(\"you are a voter\")\n",
    "                    votes_id.remove(voter)\n",
    "                    v=int(input(\"enter your vote 1 and 2\"))\n",
    "                    if v==1:\n",
    "                        n1_votes+=1\n",
    "                    elif v==2:\n",
    "                        n2_votes+=1\n",
    "                else:\n",
    "                    print(\"you ave your vote previously so you can not give vote\")\n",
    "    elif (loop.lower()==\"e\"):\n",
    "        break\n",
    "    else:\n",
    "        print(\"invalid syntax\")"
   ]
  }
 ],
 "metadata": {
  "kernelspec": {
   "display_name": "Python 3 (ipykernel)",
   "language": "python",
   "name": "python3"
  },
  "language_info": {
   "codemirror_mode": {
    "name": "ipython",
    "version": 3
   },
   "file_extension": ".py",
   "mimetype": "text/x-python",
   "name": "python",
   "nbconvert_exporter": "python",
   "pygments_lexer": "ipython3",
   "version": "3.12.4"
  }
 },
 "nbformat": 4,
 "nbformat_minor": 5
}
